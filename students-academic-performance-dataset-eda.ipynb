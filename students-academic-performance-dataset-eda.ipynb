{
 "cells": [
  {
   "cell_type": "code",
   "execution_count": 1,
   "id": "69c5fe90",
   "metadata": {
    "_cell_guid": "b1076dfc-b9ad-4769-8c92-a6c4dae69d19",
    "_uuid": "8f2839f25d086af736a60e9eeb907d3b93b6e0e5",
    "execution": {
     "iopub.execute_input": "2024-02-23T13:29:10.379625Z",
     "iopub.status.busy": "2024-02-23T13:29:10.378891Z",
     "iopub.status.idle": "2024-02-23T13:29:11.301491Z",
     "shell.execute_reply": "2024-02-23T13:29:11.300581Z"
    },
    "papermill": {
     "duration": 0.937358,
     "end_time": "2024-02-23T13:29:11.303705",
     "exception": false,
     "start_time": "2024-02-23T13:29:10.366347",
     "status": "completed"
    },
    "tags": []
   },
   "outputs": [
    {
     "name": "stdout",
     "output_type": "stream",
     "text": [
      "/kaggle/input/xAPI-Edu-Data/xAPI-Edu-Data.csv\n",
      "/kaggle/input/edudata/EduData.csv\n"
     ]
    }
   ],
   "source": [
    "# This Python 3 environment comes with many helpful analytics libraries installed\n",
    "# It is defined by the kaggle/python Docker image: https://github.com/kaggle/docker-python\n",
    "# For example, here's several helpful packages to load\n",
    "\n",
    "import numpy as np # linear algebra\n",
    "import pandas as pd # data processing, CSV file I/O (e.g. pd.read_csv)\n",
    "\n",
    "# Input data files are available in the read-only \"../input/\" directory\n",
    "# For example, running this (by clicking run or pressing Shift+Enter) will list all files under the input directory\n",
    "\n",
    "import os\n",
    "for dirname, _, filenames in os.walk('/kaggle/input'):\n",
    "    for filename in filenames:\n",
    "        print(os.path.join(dirname, filename))\n",
    "\n",
    "# You can write up to 20GB to the current directory (/kaggle/working/) that gets preserved as output when you create a version using \"Save & Run All\" \n",
    "# You can also write temporary files to /kaggle/temp/, but they won't be saved outside of the current session"
   ]
  },
  {
   "cell_type": "code",
   "execution_count": 2,
   "id": "95378110",
   "metadata": {
    "execution": {
     "iopub.execute_input": "2024-02-23T13:29:11.323976Z",
     "iopub.status.busy": "2024-02-23T13:29:11.323361Z",
     "iopub.status.idle": "2024-02-23T13:29:11.328702Z",
     "shell.execute_reply": "2024-02-23T13:29:11.327107Z"
    },
    "papermill": {
     "duration": 0.01762,
     "end_time": "2024-02-23T13:29:11.330708",
     "exception": false,
     "start_time": "2024-02-23T13:29:11.313088",
     "status": "completed"
    },
    "tags": []
   },
   "outputs": [],
   "source": [
    "# import pandas as pd\n",
    "\n",
    "# # Set display options to show all columns and rows\n",
    "# pd.set_option('display.max_columns', None)\n",
    "# pd.set_option('display.max_rows', None)\n"
   ]
  },
  {
   "cell_type": "code",
   "execution_count": 3,
   "id": "85f2e0ee",
   "metadata": {
    "execution": {
     "iopub.execute_input": "2024-02-23T13:29:11.350402Z",
     "iopub.status.busy": "2024-02-23T13:29:11.349945Z",
     "iopub.status.idle": "2024-02-23T13:29:11.397937Z",
     "shell.execute_reply": "2024-02-23T13:29:11.396667Z"
    },
    "papermill": {
     "duration": 0.060463,
     "end_time": "2024-02-23T13:29:11.400185",
     "exception": false,
     "start_time": "2024-02-23T13:29:11.339722",
     "status": "completed"
    },
    "tags": []
   },
   "outputs": [
    {
     "data": {
      "text/html": [
       "<div>\n",
       "<style scoped>\n",
       "    .dataframe tbody tr th:only-of-type {\n",
       "        vertical-align: middle;\n",
       "    }\n",
       "\n",
       "    .dataframe tbody tr th {\n",
       "        vertical-align: top;\n",
       "    }\n",
       "\n",
       "    .dataframe thead th {\n",
       "        text-align: right;\n",
       "    }\n",
       "</style>\n",
       "<table border=\"1\" class=\"dataframe\">\n",
       "  <thead>\n",
       "    <tr style=\"text-align: right;\">\n",
       "      <th></th>\n",
       "      <th>gender</th>\n",
       "      <th>NationalITy</th>\n",
       "      <th>PlaceofBirth</th>\n",
       "      <th>StageID</th>\n",
       "      <th>GradeID</th>\n",
       "      <th>SectionID</th>\n",
       "      <th>Topic</th>\n",
       "      <th>Semester</th>\n",
       "      <th>Relation</th>\n",
       "      <th>raisedhands</th>\n",
       "      <th>VisITedResources</th>\n",
       "      <th>AnnouncementsView</th>\n",
       "      <th>Discussion</th>\n",
       "      <th>ParentAnsweringSurvey</th>\n",
       "      <th>ParentschoolSatisfaction</th>\n",
       "      <th>StudentAbsenceDays</th>\n",
       "      <th>Class</th>\n",
       "    </tr>\n",
       "  </thead>\n",
       "  <tbody>\n",
       "    <tr>\n",
       "      <th>0</th>\n",
       "      <td>M</td>\n",
       "      <td>KW</td>\n",
       "      <td>KuwaIT</td>\n",
       "      <td>lowerlevel</td>\n",
       "      <td>G-04</td>\n",
       "      <td>A</td>\n",
       "      <td>IT</td>\n",
       "      <td>F</td>\n",
       "      <td>Father</td>\n",
       "      <td>15.0</td>\n",
       "      <td>16</td>\n",
       "      <td>2</td>\n",
       "      <td>20</td>\n",
       "      <td>Yes</td>\n",
       "      <td>Good</td>\n",
       "      <td>Under-7</td>\n",
       "      <td>M</td>\n",
       "    </tr>\n",
       "    <tr>\n",
       "      <th>1</th>\n",
       "      <td>M</td>\n",
       "      <td>KW</td>\n",
       "      <td>KuwaIT</td>\n",
       "      <td>lowerlevel</td>\n",
       "      <td>G-04</td>\n",
       "      <td>A</td>\n",
       "      <td>IT</td>\n",
       "      <td>F</td>\n",
       "      <td>Father</td>\n",
       "      <td>20.0</td>\n",
       "      <td>20</td>\n",
       "      <td>3</td>\n",
       "      <td>25</td>\n",
       "      <td>Yes</td>\n",
       "      <td>Good</td>\n",
       "      <td>Under-7</td>\n",
       "      <td>M</td>\n",
       "    </tr>\n",
       "    <tr>\n",
       "      <th>2</th>\n",
       "      <td>M</td>\n",
       "      <td>KW</td>\n",
       "      <td>KuwaIT</td>\n",
       "      <td>lowerlevel</td>\n",
       "      <td>G-04</td>\n",
       "      <td>A</td>\n",
       "      <td>IT</td>\n",
       "      <td>F</td>\n",
       "      <td>Father</td>\n",
       "      <td>10.0</td>\n",
       "      <td>7</td>\n",
       "      <td>0</td>\n",
       "      <td>30</td>\n",
       "      <td>No</td>\n",
       "      <td>Bad</td>\n",
       "      <td>Above-7</td>\n",
       "      <td>L</td>\n",
       "    </tr>\n",
       "    <tr>\n",
       "      <th>3</th>\n",
       "      <td>M</td>\n",
       "      <td>KW</td>\n",
       "      <td>KuwaIT</td>\n",
       "      <td>lowerlevel</td>\n",
       "      <td>G-04</td>\n",
       "      <td>A</td>\n",
       "      <td>IT</td>\n",
       "      <td>F</td>\n",
       "      <td>Father</td>\n",
       "      <td>30.0</td>\n",
       "      <td>25</td>\n",
       "      <td>5</td>\n",
       "      <td>35</td>\n",
       "      <td>No</td>\n",
       "      <td>Bad</td>\n",
       "      <td>Above-7</td>\n",
       "      <td>L</td>\n",
       "    </tr>\n",
       "    <tr>\n",
       "      <th>4</th>\n",
       "      <td>M</td>\n",
       "      <td>KW</td>\n",
       "      <td>KuwaIT</td>\n",
       "      <td>lowerlevel</td>\n",
       "      <td>G-04</td>\n",
       "      <td>A</td>\n",
       "      <td>IT</td>\n",
       "      <td>F</td>\n",
       "      <td>Father</td>\n",
       "      <td>40.0</td>\n",
       "      <td>50</td>\n",
       "      <td>12</td>\n",
       "      <td>50</td>\n",
       "      <td>No</td>\n",
       "      <td>Bad</td>\n",
       "      <td>Above-7</td>\n",
       "      <td>M</td>\n",
       "    </tr>\n",
       "    <tr>\n",
       "      <th>...</th>\n",
       "      <td>...</td>\n",
       "      <td>...</td>\n",
       "      <td>...</td>\n",
       "      <td>...</td>\n",
       "      <td>...</td>\n",
       "      <td>...</td>\n",
       "      <td>...</td>\n",
       "      <td>...</td>\n",
       "      <td>...</td>\n",
       "      <td>...</td>\n",
       "      <td>...</td>\n",
       "      <td>...</td>\n",
       "      <td>...</td>\n",
       "      <td>...</td>\n",
       "      <td>...</td>\n",
       "      <td>...</td>\n",
       "      <td>...</td>\n",
       "    </tr>\n",
       "    <tr>\n",
       "      <th>475</th>\n",
       "      <td>F</td>\n",
       "      <td>Jordan</td>\n",
       "      <td>Jordan</td>\n",
       "      <td>MiddleSchool</td>\n",
       "      <td>G-08</td>\n",
       "      <td>A</td>\n",
       "      <td>Chemistry</td>\n",
       "      <td>T</td>\n",
       "      <td>Father</td>\n",
       "      <td>5.0</td>\n",
       "      <td>4</td>\n",
       "      <td>5</td>\n",
       "      <td>8</td>\n",
       "      <td>No</td>\n",
       "      <td>Bad</td>\n",
       "      <td>Above-7</td>\n",
       "      <td>L</td>\n",
       "    </tr>\n",
       "    <tr>\n",
       "      <th>476</th>\n",
       "      <td>F</td>\n",
       "      <td>Jordan</td>\n",
       "      <td>Jordan</td>\n",
       "      <td>MiddleSchool</td>\n",
       "      <td>G-08</td>\n",
       "      <td>A</td>\n",
       "      <td>Geology</td>\n",
       "      <td>F</td>\n",
       "      <td>Father</td>\n",
       "      <td>50.0</td>\n",
       "      <td>77</td>\n",
       "      <td>14</td>\n",
       "      <td>28</td>\n",
       "      <td>No</td>\n",
       "      <td>Bad</td>\n",
       "      <td>Under-7</td>\n",
       "      <td>M</td>\n",
       "    </tr>\n",
       "    <tr>\n",
       "      <th>477</th>\n",
       "      <td>F</td>\n",
       "      <td>Jordan</td>\n",
       "      <td>Jordan</td>\n",
       "      <td>MiddleSchool</td>\n",
       "      <td>G-08</td>\n",
       "      <td>A</td>\n",
       "      <td>Geology</td>\n",
       "      <td>S</td>\n",
       "      <td>Father</td>\n",
       "      <td>55.0</td>\n",
       "      <td>74</td>\n",
       "      <td>25</td>\n",
       "      <td>29</td>\n",
       "      <td>No</td>\n",
       "      <td>Bad</td>\n",
       "      <td>Under-7</td>\n",
       "      <td>M</td>\n",
       "    </tr>\n",
       "    <tr>\n",
       "      <th>478</th>\n",
       "      <td>F</td>\n",
       "      <td>Jordan</td>\n",
       "      <td>Jordan</td>\n",
       "      <td>MiddleSchool</td>\n",
       "      <td>G-08</td>\n",
       "      <td>A</td>\n",
       "      <td>History</td>\n",
       "      <td>F</td>\n",
       "      <td>Father</td>\n",
       "      <td>30.0</td>\n",
       "      <td>17</td>\n",
       "      <td>14</td>\n",
       "      <td>57</td>\n",
       "      <td>No</td>\n",
       "      <td>Bad</td>\n",
       "      <td>Above-7</td>\n",
       "      <td>L</td>\n",
       "    </tr>\n",
       "    <tr>\n",
       "      <th>479</th>\n",
       "      <td>F</td>\n",
       "      <td>Jordan</td>\n",
       "      <td>Jordan</td>\n",
       "      <td>MiddleSchool</td>\n",
       "      <td>G-08</td>\n",
       "      <td>A</td>\n",
       "      <td>History</td>\n",
       "      <td>S</td>\n",
       "      <td>Father</td>\n",
       "      <td>35.0</td>\n",
       "      <td>14</td>\n",
       "      <td>23</td>\n",
       "      <td>62</td>\n",
       "      <td>No</td>\n",
       "      <td>Bad</td>\n",
       "      <td>Above-7</td>\n",
       "      <td>L</td>\n",
       "    </tr>\n",
       "  </tbody>\n",
       "</table>\n",
       "<p>480 rows × 17 columns</p>\n",
       "</div>"
      ],
      "text/plain": [
       "    gender NationalITy PlaceofBirth       StageID GradeID SectionID  \\\n",
       "0        M          KW       KuwaIT    lowerlevel    G-04         A   \n",
       "1        M          KW       KuwaIT    lowerlevel    G-04         A   \n",
       "2        M          KW       KuwaIT    lowerlevel    G-04         A   \n",
       "3        M          KW       KuwaIT    lowerlevel    G-04         A   \n",
       "4        M          KW       KuwaIT    lowerlevel    G-04         A   \n",
       "..     ...         ...          ...           ...     ...       ...   \n",
       "475      F      Jordan       Jordan  MiddleSchool    G-08         A   \n",
       "476      F      Jordan       Jordan  MiddleSchool    G-08         A   \n",
       "477      F      Jordan       Jordan  MiddleSchool    G-08         A   \n",
       "478      F      Jordan       Jordan  MiddleSchool    G-08         A   \n",
       "479      F      Jordan       Jordan  MiddleSchool    G-08         A   \n",
       "\n",
       "         Topic Semester Relation  raisedhands  VisITedResources  \\\n",
       "0           IT        F   Father         15.0                16   \n",
       "1           IT        F   Father         20.0                20   \n",
       "2           IT        F   Father         10.0                 7   \n",
       "3           IT        F   Father         30.0                25   \n",
       "4           IT        F   Father         40.0                50   \n",
       "..         ...      ...      ...          ...               ...   \n",
       "475  Chemistry        T   Father          5.0                 4   \n",
       "476    Geology        F   Father         50.0                77   \n",
       "477    Geology        S   Father         55.0                74   \n",
       "478    History        F   Father         30.0                17   \n",
       "479    History        S   Father         35.0                14   \n",
       "\n",
       "     AnnouncementsView  Discussion ParentAnsweringSurvey  \\\n",
       "0                    2          20                   Yes   \n",
       "1                    3          25                   Yes   \n",
       "2                    0          30                    No   \n",
       "3                    5          35                    No   \n",
       "4                   12          50                    No   \n",
       "..                 ...         ...                   ...   \n",
       "475                  5           8                    No   \n",
       "476                 14          28                    No   \n",
       "477                 25          29                    No   \n",
       "478                 14          57                    No   \n",
       "479                 23          62                    No   \n",
       "\n",
       "    ParentschoolSatisfaction StudentAbsenceDays Class  \n",
       "0                       Good            Under-7     M  \n",
       "1                       Good            Under-7     M  \n",
       "2                        Bad            Above-7     L  \n",
       "3                        Bad            Above-7     L  \n",
       "4                        Bad            Above-7     M  \n",
       "..                       ...                ...   ...  \n",
       "475                      Bad            Above-7     L  \n",
       "476                      Bad            Under-7     M  \n",
       "477                      Bad            Under-7     M  \n",
       "478                      Bad            Above-7     L  \n",
       "479                      Bad            Above-7     L  \n",
       "\n",
       "[480 rows x 17 columns]"
      ]
     },
     "execution_count": 3,
     "metadata": {},
     "output_type": "execute_result"
    }
   ],
   "source": [
    "df1 = pd.read_csv(\"/kaggle/input/edudata/EduData.csv\", na_values='?')\n",
    "df1"
   ]
  },
  {
   "cell_type": "code",
   "execution_count": 4,
   "id": "31bd3aa7",
   "metadata": {
    "execution": {
     "iopub.execute_input": "2024-02-23T13:29:11.420601Z",
     "iopub.status.busy": "2024-02-23T13:29:11.420234Z",
     "iopub.status.idle": "2024-02-23T13:29:11.426597Z",
     "shell.execute_reply": "2024-02-23T13:29:11.425822Z"
    },
    "papermill": {
     "duration": 0.020221,
     "end_time": "2024-02-23T13:29:11.429334",
     "exception": false,
     "start_time": "2024-02-23T13:29:11.409113",
     "status": "completed"
    },
    "tags": []
   },
   "outputs": [
    {
     "data": {
      "text/plain": [
       "Index(['gender', 'NationalITy', 'PlaceofBirth', 'StageID', 'GradeID',\n",
       "       'SectionID', 'Topic', 'Semester', 'Relation', 'raisedhands',\n",
       "       'VisITedResources', 'AnnouncementsView', 'Discussion',\n",
       "       'ParentAnsweringSurvey', 'ParentschoolSatisfaction',\n",
       "       'StudentAbsenceDays', 'Class'],\n",
       "      dtype='object')"
      ]
     },
     "execution_count": 4,
     "metadata": {},
     "output_type": "execute_result"
    }
   ],
   "source": [
    "df1.columns"
   ]
  },
  {
   "cell_type": "code",
   "execution_count": 5,
   "id": "7b789818",
   "metadata": {
    "execution": {
     "iopub.execute_input": "2024-02-23T13:29:11.451635Z",
     "iopub.status.busy": "2024-02-23T13:29:11.451197Z",
     "iopub.status.idle": "2024-02-23T13:29:11.478438Z",
     "shell.execute_reply": "2024-02-23T13:29:11.476427Z"
    },
    "papermill": {
     "duration": 0.041115,
     "end_time": "2024-02-23T13:29:11.480655",
     "exception": false,
     "start_time": "2024-02-23T13:29:11.439540",
     "status": "completed"
    },
    "tags": []
   },
   "outputs": [
    {
     "name": "stdout",
     "output_type": "stream",
     "text": [
      "<class 'pandas.core.frame.DataFrame'>\n",
      "RangeIndex: 480 entries, 0 to 479\n",
      "Data columns (total 17 columns):\n",
      " #   Column                    Non-Null Count  Dtype  \n",
      "---  ------                    --------------  -----  \n",
      " 0   gender                    480 non-null    object \n",
      " 1   NationalITy               480 non-null    object \n",
      " 2   PlaceofBirth              480 non-null    object \n",
      " 3   StageID                   480 non-null    object \n",
      " 4   GradeID                   478 non-null    object \n",
      " 5   SectionID                 480 non-null    object \n",
      " 6   Topic                     478 non-null    object \n",
      " 7   Semester                  480 non-null    object \n",
      " 8   Relation                  472 non-null    object \n",
      " 9   raisedhands               478 non-null    float64\n",
      " 10  VisITedResources          480 non-null    int64  \n",
      " 11  AnnouncementsView         480 non-null    int64  \n",
      " 12  Discussion                480 non-null    int64  \n",
      " 13  ParentAnsweringSurvey     480 non-null    object \n",
      " 14  ParentschoolSatisfaction  480 non-null    object \n",
      " 15  StudentAbsenceDays        480 non-null    object \n",
      " 16  Class                     480 non-null    object \n",
      "dtypes: float64(1), int64(3), object(13)\n",
      "memory usage: 63.9+ KB\n"
     ]
    }
   ],
   "source": [
    "df1.info()"
   ]
  },
  {
   "cell_type": "markdown",
   "id": "f5b74f67",
   "metadata": {
    "papermill": {
     "duration": 0.010525,
     "end_time": "2024-02-23T13:29:11.500863",
     "exception": false,
     "start_time": "2024-02-23T13:29:11.490338",
     "status": "completed"
    },
    "tags": []
   },
   "source": [
    "Before we make any changes, we are going to duplicate the dataset so that original dataset is not affected."
   ]
  },
  {
   "cell_type": "code",
   "execution_count": 6,
   "id": "cc727180",
   "metadata": {
    "execution": {
     "iopub.execute_input": "2024-02-23T13:29:11.522196Z",
     "iopub.status.busy": "2024-02-23T13:29:11.521772Z",
     "iopub.status.idle": "2024-02-23T13:29:11.528423Z",
     "shell.execute_reply": "2024-02-23T13:29:11.526840Z"
    },
    "papermill": {
     "duration": 0.019849,
     "end_time": "2024-02-23T13:29:11.530436",
     "exception": false,
     "start_time": "2024-02-23T13:29:11.510587",
     "status": "completed"
    },
    "tags": []
   },
   "outputs": [],
   "source": [
    "df = df1.copy()"
   ]
  },
  {
   "cell_type": "markdown",
   "id": "114fcee9",
   "metadata": {
    "papermill": {
     "duration": 0.008779,
     "end_time": "2024-02-23T13:29:11.548868",
     "exception": false,
     "start_time": "2024-02-23T13:29:11.540089",
     "status": "completed"
    },
    "tags": []
   },
   "source": [
    "## Deal with missing values\n",
    "\n",
    "a) Topic- replace with most common\n",
    "\n",
    "b) Relation- remove the rows\n",
    "\n",
    "c) GradeID- remove the rows\n",
    "\n",
    "d) Raisedhands- replace with average"
   ]
  },
  {
   "cell_type": "code",
   "execution_count": 7,
   "id": "8bdbebf9",
   "metadata": {
    "execution": {
     "iopub.execute_input": "2024-02-23T13:29:11.568898Z",
     "iopub.status.busy": "2024-02-23T13:29:11.568402Z",
     "iopub.status.idle": "2024-02-23T13:29:11.579026Z",
     "shell.execute_reply": "2024-02-23T13:29:11.577804Z"
    },
    "papermill": {
     "duration": 0.023726,
     "end_time": "2024-02-23T13:29:11.581666",
     "exception": false,
     "start_time": "2024-02-23T13:29:11.557940",
     "status": "completed"
    },
    "tags": []
   },
   "outputs": [
    {
     "data": {
      "text/plain": [
       "gender                      0\n",
       "NationalITy                 0\n",
       "PlaceofBirth                0\n",
       "StageID                     0\n",
       "GradeID                     2\n",
       "SectionID                   0\n",
       "Topic                       2\n",
       "Semester                    0\n",
       "Relation                    8\n",
       "raisedhands                 2\n",
       "VisITedResources            0\n",
       "AnnouncementsView           0\n",
       "Discussion                  0\n",
       "ParentAnsweringSurvey       0\n",
       "ParentschoolSatisfaction    0\n",
       "StudentAbsenceDays          0\n",
       "Class                       0\n",
       "dtype: int64"
      ]
     },
     "execution_count": 7,
     "metadata": {},
     "output_type": "execute_result"
    }
   ],
   "source": [
    "# checking for the count of null values\n",
    "df.isnull().sum()"
   ]
  },
  {
   "cell_type": "code",
   "execution_count": 8,
   "id": "7fd75ba1",
   "metadata": {
    "execution": {
     "iopub.execute_input": "2024-02-23T13:29:11.603186Z",
     "iopub.status.busy": "2024-02-23T13:29:11.602668Z",
     "iopub.status.idle": "2024-02-23T13:29:11.621113Z",
     "shell.execute_reply": "2024-02-23T13:29:11.620355Z"
    },
    "papermill": {
     "duration": 0.032039,
     "end_time": "2024-02-23T13:29:11.623308",
     "exception": false,
     "start_time": "2024-02-23T13:29:11.591269",
     "status": "completed"
    },
    "tags": []
   },
   "outputs": [
    {
     "data": {
      "text/html": [
       "<div>\n",
       "<style scoped>\n",
       "    .dataframe tbody tr th:only-of-type {\n",
       "        vertical-align: middle;\n",
       "    }\n",
       "\n",
       "    .dataframe tbody tr th {\n",
       "        vertical-align: top;\n",
       "    }\n",
       "\n",
       "    .dataframe thead th {\n",
       "        text-align: right;\n",
       "    }\n",
       "</style>\n",
       "<table border=\"1\" class=\"dataframe\">\n",
       "  <thead>\n",
       "    <tr style=\"text-align: right;\">\n",
       "      <th></th>\n",
       "      <th>gender</th>\n",
       "      <th>NationalITy</th>\n",
       "      <th>PlaceofBirth</th>\n",
       "      <th>StageID</th>\n",
       "      <th>GradeID</th>\n",
       "      <th>SectionID</th>\n",
       "      <th>Topic</th>\n",
       "      <th>Semester</th>\n",
       "      <th>Relation</th>\n",
       "      <th>raisedhands</th>\n",
       "      <th>VisITedResources</th>\n",
       "      <th>AnnouncementsView</th>\n",
       "      <th>Discussion</th>\n",
       "      <th>ParentAnsweringSurvey</th>\n",
       "      <th>ParentschoolSatisfaction</th>\n",
       "      <th>StudentAbsenceDays</th>\n",
       "      <th>Class</th>\n",
       "    </tr>\n",
       "  </thead>\n",
       "  <tbody>\n",
       "    <tr>\n",
       "      <th>118</th>\n",
       "      <td>F</td>\n",
       "      <td>KW</td>\n",
       "      <td>KuwaIT</td>\n",
       "      <td>lowerlevel</td>\n",
       "      <td>G-02</td>\n",
       "      <td>C</td>\n",
       "      <td>NaN</td>\n",
       "      <td>F</td>\n",
       "      <td>Mum</td>\n",
       "      <td>24.0</td>\n",
       "      <td>35</td>\n",
       "      <td>23</td>\n",
       "      <td>22</td>\n",
       "      <td>Yes</td>\n",
       "      <td>Good</td>\n",
       "      <td>Above-7</td>\n",
       "      <td>M</td>\n",
       "    </tr>\n",
       "    <tr>\n",
       "      <th>363</th>\n",
       "      <td>M</td>\n",
       "      <td>Palestine</td>\n",
       "      <td>Jordan</td>\n",
       "      <td>lowerlevel</td>\n",
       "      <td>G-02</td>\n",
       "      <td>A</td>\n",
       "      <td>NaN</td>\n",
       "      <td>S</td>\n",
       "      <td>Father</td>\n",
       "      <td>80.0</td>\n",
       "      <td>88</td>\n",
       "      <td>51</td>\n",
       "      <td>39</td>\n",
       "      <td>Yes</td>\n",
       "      <td>Good</td>\n",
       "      <td>Under-7</td>\n",
       "      <td>H</td>\n",
       "    </tr>\n",
       "  </tbody>\n",
       "</table>\n",
       "</div>"
      ],
      "text/plain": [
       "    gender NationalITy PlaceofBirth     StageID GradeID SectionID Topic  \\\n",
       "118      F          KW       KuwaIT  lowerlevel    G-02         C   NaN   \n",
       "363      M   Palestine       Jordan  lowerlevel    G-02         A   NaN   \n",
       "\n",
       "    Semester Relation  raisedhands  VisITedResources  AnnouncementsView  \\\n",
       "118        F      Mum         24.0                35                 23   \n",
       "363        S   Father         80.0                88                 51   \n",
       "\n",
       "     Discussion ParentAnsweringSurvey ParentschoolSatisfaction  \\\n",
       "118          22                   Yes                     Good   \n",
       "363          39                   Yes                     Good   \n",
       "\n",
       "    StudentAbsenceDays Class  \n",
       "118            Above-7     M  \n",
       "363            Under-7     H  "
      ]
     },
     "execution_count": 8,
     "metadata": {},
     "output_type": "execute_result"
    }
   ],
   "source": [
    "df[df['Topic'].isnull()]"
   ]
  },
  {
   "cell_type": "code",
   "execution_count": 9,
   "id": "b5e17a04",
   "metadata": {
    "execution": {
     "iopub.execute_input": "2024-02-23T13:29:11.647367Z",
     "iopub.status.busy": "2024-02-23T13:29:11.645924Z",
     "iopub.status.idle": "2024-02-23T13:29:11.656382Z",
     "shell.execute_reply": "2024-02-23T13:29:11.654424Z"
    },
    "papermill": {
     "duration": 0.025062,
     "end_time": "2024-02-23T13:29:11.659063",
     "exception": false,
     "start_time": "2024-02-23T13:29:11.634001",
     "status": "completed"
    },
    "tags": []
   },
   "outputs": [
    {
     "data": {
      "text/plain": [
       "Topic\n",
       "IT           94\n",
       "French       65\n",
       "Arabic       58\n",
       "Science      51\n",
       "English      45\n",
       "Biology      30\n",
       "Spanish      25\n",
       "Chemistry    24\n",
       "Geology      24\n",
       "Quran        22\n",
       "Math         21\n",
       "History      19\n",
       "Name: count, dtype: int64"
      ]
     },
     "execution_count": 9,
     "metadata": {},
     "output_type": "execute_result"
    }
   ],
   "source": [
    "# finding the most common value\n",
    "df['Topic'].value_counts()"
   ]
  },
  {
   "cell_type": "code",
   "execution_count": 10,
   "id": "89591341",
   "metadata": {
    "execution": {
     "iopub.execute_input": "2024-02-23T13:29:11.681187Z",
     "iopub.status.busy": "2024-02-23T13:29:11.680713Z",
     "iopub.status.idle": "2024-02-23T13:29:11.686561Z",
     "shell.execute_reply": "2024-02-23T13:29:11.685659Z"
    },
    "papermill": {
     "duration": 0.019897,
     "end_time": "2024-02-23T13:29:11.689091",
     "exception": false,
     "start_time": "2024-02-23T13:29:11.669194",
     "status": "completed"
    },
    "tags": []
   },
   "outputs": [
    {
     "name": "stderr",
     "output_type": "stream",
     "text": [
      "/tmp/ipykernel_18/2736566529.py:2: FutureWarning: A value is trying to be set on a copy of a DataFrame or Series through chained assignment using an inplace method.\n",
      "The behavior will change in pandas 3.0. This inplace method will never work because the intermediate object on which we are setting values always behaves as a copy.\n",
      "\n",
      "For example, when doing 'df[col].method(value, inplace=True)', try using 'df.method({col: value}, inplace=True)' or df[col] = df[col].method(value) instead, to perform the operation inplace on the original object.\n",
      "\n",
      "\n",
      "  df['Topic'].replace(np.NaN, \"IT\", inplace =True)\n"
     ]
    }
   ],
   "source": [
    "# replace the missing data with most common value\n",
    "df['Topic'].replace(np.NaN, \"IT\", inplace =True)"
   ]
  },
  {
   "cell_type": "code",
   "execution_count": 11,
   "id": "7e8eb0ec",
   "metadata": {
    "execution": {
     "iopub.execute_input": "2024-02-23T13:29:11.711413Z",
     "iopub.status.busy": "2024-02-23T13:29:11.710938Z",
     "iopub.status.idle": "2024-02-23T13:29:11.718427Z",
     "shell.execute_reply": "2024-02-23T13:29:11.716814Z"
    },
    "papermill": {
     "duration": 0.020624,
     "end_time": "2024-02-23T13:29:11.720544",
     "exception": false,
     "start_time": "2024-02-23T13:29:11.699920",
     "status": "completed"
    },
    "tags": []
   },
   "outputs": [
    {
     "data": {
      "text/plain": [
       "0"
      ]
     },
     "execution_count": 11,
     "metadata": {},
     "output_type": "execute_result"
    }
   ],
   "source": [
    "# rechecking for the missing values\n",
    "df['Topic'].isnull().sum()"
   ]
  },
  {
   "cell_type": "code",
   "execution_count": 12,
   "id": "cb83d91a",
   "metadata": {
    "execution": {
     "iopub.execute_input": "2024-02-23T13:29:11.742787Z",
     "iopub.status.busy": "2024-02-23T13:29:11.742314Z",
     "iopub.status.idle": "2024-02-23T13:29:11.752709Z",
     "shell.execute_reply": "2024-02-23T13:29:11.751670Z"
    },
    "papermill": {
     "duration": 0.023945,
     "end_time": "2024-02-23T13:29:11.754907",
     "exception": false,
     "start_time": "2024-02-23T13:29:11.730962",
     "status": "completed"
    },
    "tags": []
   },
   "outputs": [],
   "source": [
    "# dropping rows which have null values\n",
    "df.dropna(subset=['Relation', 'GradeID'], inplace = True)"
   ]
  },
  {
   "cell_type": "code",
   "execution_count": 13,
   "id": "443172fc",
   "metadata": {
    "execution": {
     "iopub.execute_input": "2024-02-23T13:29:11.778140Z",
     "iopub.status.busy": "2024-02-23T13:29:11.777418Z",
     "iopub.status.idle": "2024-02-23T13:29:11.784631Z",
     "shell.execute_reply": "2024-02-23T13:29:11.783745Z"
    },
    "papermill": {
     "duration": 0.02168,
     "end_time": "2024-02-23T13:29:11.787248",
     "exception": false,
     "start_time": "2024-02-23T13:29:11.765568",
     "status": "completed"
    },
    "tags": []
   },
   "outputs": [
    {
     "data": {
      "text/plain": [
       "0"
      ]
     },
     "execution_count": 13,
     "metadata": {},
     "output_type": "execute_result"
    }
   ],
   "source": [
    "# rechecking for the missing values\n",
    "df['Relation'].isnull().sum()"
   ]
  },
  {
   "cell_type": "code",
   "execution_count": 14,
   "id": "32fd8bec",
   "metadata": {
    "execution": {
     "iopub.execute_input": "2024-02-23T13:29:11.810446Z",
     "iopub.status.busy": "2024-02-23T13:29:11.810056Z",
     "iopub.status.idle": "2024-02-23T13:29:11.818847Z",
     "shell.execute_reply": "2024-02-23T13:29:11.817321Z"
    },
    "papermill": {
     "duration": 0.022715,
     "end_time": "2024-02-23T13:29:11.820836",
     "exception": false,
     "start_time": "2024-02-23T13:29:11.798121",
     "status": "completed"
    },
    "tags": []
   },
   "outputs": [
    {
     "data": {
      "text/plain": [
       "0"
      ]
     },
     "execution_count": 14,
     "metadata": {},
     "output_type": "execute_result"
    }
   ],
   "source": [
    "# rechecking for the missing values\n",
    "df['GradeID'].isnull().sum()"
   ]
  },
  {
   "cell_type": "code",
   "execution_count": 15,
   "id": "4e730b65",
   "metadata": {
    "execution": {
     "iopub.execute_input": "2024-02-23T13:29:11.845883Z",
     "iopub.status.busy": "2024-02-23T13:29:11.845441Z",
     "iopub.status.idle": "2024-02-23T13:29:11.852334Z",
     "shell.execute_reply": "2024-02-23T13:29:11.851133Z"
    },
    "papermill": {
     "duration": 0.02205,
     "end_time": "2024-02-23T13:29:11.854487",
     "exception": false,
     "start_time": "2024-02-23T13:29:11.832437",
     "status": "completed"
    },
    "tags": []
   },
   "outputs": [
    {
     "data": {
      "text/plain": [
       "46.83119658119658"
      ]
     },
     "execution_count": 15,
     "metadata": {},
     "output_type": "execute_result"
    }
   ],
   "source": [
    "# finding the mean (avg)\n",
    "df['raisedhands'].mean()"
   ]
  },
  {
   "cell_type": "code",
   "execution_count": 16,
   "id": "4baee778",
   "metadata": {
    "execution": {
     "iopub.execute_input": "2024-02-23T13:29:11.877770Z",
     "iopub.status.busy": "2024-02-23T13:29:11.877262Z",
     "iopub.status.idle": "2024-02-23T13:29:11.882997Z",
     "shell.execute_reply": "2024-02-23T13:29:11.882085Z"
    },
    "papermill": {
     "duration": 0.0211,
     "end_time": "2024-02-23T13:29:11.886121",
     "exception": false,
     "start_time": "2024-02-23T13:29:11.865021",
     "status": "completed"
    },
    "tags": []
   },
   "outputs": [
    {
     "name": "stderr",
     "output_type": "stream",
     "text": [
      "/tmp/ipykernel_18/1729502920.py:2: FutureWarning: A value is trying to be set on a copy of a DataFrame or Series through chained assignment using an inplace method.\n",
      "The behavior will change in pandas 3.0. This inplace method will never work because the intermediate object on which we are setting values always behaves as a copy.\n",
      "\n",
      "For example, when doing 'df[col].method(value, inplace=True)', try using 'df.method({col: value}, inplace=True)' or df[col] = df[col].method(value) instead, to perform the operation inplace on the original object.\n",
      "\n",
      "\n",
      "  df['raisedhands'].replace(np.NaN, 47.0, inplace = True)\n"
     ]
    }
   ],
   "source": [
    "# replacing the missing data with avg\n",
    "df['raisedhands'].replace(np.NaN, 47.0, inplace = True)"
   ]
  },
  {
   "cell_type": "code",
   "execution_count": 17,
   "id": "30194d61",
   "metadata": {
    "execution": {
     "iopub.execute_input": "2024-02-23T13:29:11.911825Z",
     "iopub.status.busy": "2024-02-23T13:29:11.911252Z",
     "iopub.status.idle": "2024-02-23T13:29:11.918993Z",
     "shell.execute_reply": "2024-02-23T13:29:11.917293Z"
    },
    "papermill": {
     "duration": 0.02414,
     "end_time": "2024-02-23T13:29:11.922005",
     "exception": false,
     "start_time": "2024-02-23T13:29:11.897865",
     "status": "completed"
    },
    "tags": []
   },
   "outputs": [
    {
     "data": {
      "text/plain": [
       "0"
      ]
     },
     "execution_count": 17,
     "metadata": {},
     "output_type": "execute_result"
    }
   ],
   "source": [
    "# rechecking for the missing values\n",
    "df.raisedhands.isnull().sum()"
   ]
  },
  {
   "cell_type": "markdown",
   "id": "6d56478e",
   "metadata": {
    "papermill": {
     "duration": 0.010486,
     "end_time": "2024-02-23T13:29:11.945223",
     "exception": false,
     "start_time": "2024-02-23T13:29:11.934737",
     "status": "completed"
    },
    "tags": []
   },
   "source": [
    "## Scan all variables for outliers\n",
    "\n",
    "Semester- remove outliers\n",
    "\n",
    "ParentansweringSurvey- mismatched-remove the column"
   ]
  },
  {
   "cell_type": "markdown",
   "id": "150ac3ca",
   "metadata": {
    "papermill": {
     "duration": 0.010144,
     "end_time": "2024-02-23T13:29:11.967487",
     "exception": false,
     "start_time": "2024-02-23T13:29:11.957343",
     "status": "completed"
    },
    "tags": []
   },
   "source": [
    "Frequency Counts:\n",
    "\n",
    "For categorical variables, you can check the frequency counts of each category. If a particular category has an unexpectedly low or high frequency, it might indicate an issue."
   ]
  },
  {
   "cell_type": "code",
   "execution_count": 18,
   "id": "22ba7345",
   "metadata": {
    "execution": {
     "iopub.execute_input": "2024-02-23T13:29:11.990503Z",
     "iopub.status.busy": "2024-02-23T13:29:11.990053Z",
     "iopub.status.idle": "2024-02-23T13:29:11.999075Z",
     "shell.execute_reply": "2024-02-23T13:29:11.997382Z"
    },
    "papermill": {
     "duration": 0.023267,
     "end_time": "2024-02-23T13:29:12.001144",
     "exception": false,
     "start_time": "2024-02-23T13:29:11.977877",
     "status": "completed"
    },
    "tags": []
   },
   "outputs": [
    {
     "data": {
      "text/plain": [
       "Semester\n",
       "F    240\n",
       "S    228\n",
       "T      2\n",
       "Name: count, dtype: int64"
      ]
     },
     "execution_count": 18,
     "metadata": {},
     "output_type": "execute_result"
    }
   ],
   "source": [
    "df['Semester'].value_counts()"
   ]
  },
  {
   "cell_type": "markdown",
   "id": "1d2bb761",
   "metadata": {
    "papermill": {
     "duration": 0.012222,
     "end_time": "2024-02-23T13:29:12.024520",
     "exception": false,
     "start_time": "2024-02-23T13:29:12.012298",
     "status": "completed"
    },
    "tags": []
   },
   "source": [
    "Unusual Categories:\n",
    "\n",
    "Examine the unique values in the object-type columns. If you observe unexpected or unusual categories, it might be worth investigating.\n",
    "\n"
   ]
  },
  {
   "cell_type": "code",
   "execution_count": 19,
   "id": "b8ccdafa",
   "metadata": {
    "execution": {
     "iopub.execute_input": "2024-02-23T13:29:12.137272Z",
     "iopub.status.busy": "2024-02-23T13:29:12.136789Z",
     "iopub.status.idle": "2024-02-23T13:29:12.145453Z",
     "shell.execute_reply": "2024-02-23T13:29:12.143745Z"
    },
    "papermill": {
     "duration": 0.111522,
     "end_time": "2024-02-23T13:29:12.147559",
     "exception": false,
     "start_time": "2024-02-23T13:29:12.036037",
     "status": "completed"
    },
    "tags": []
   },
   "outputs": [
    {
     "data": {
      "text/plain": [
       "array(['F', 'S', 'T'], dtype=object)"
      ]
     },
     "execution_count": 19,
     "metadata": {},
     "output_type": "execute_result"
    }
   ],
   "source": [
    "# Checking unique values for 'Semester' in DataFrame df\n",
    "df['Semester'].unique()\n"
   ]
  },
  {
   "cell_type": "code",
   "execution_count": 20,
   "id": "159e3744",
   "metadata": {
    "execution": {
     "iopub.execute_input": "2024-02-23T13:29:12.172743Z",
     "iopub.status.busy": "2024-02-23T13:29:12.172257Z",
     "iopub.status.idle": "2024-02-23T13:29:13.844180Z",
     "shell.execute_reply": "2024-02-23T13:29:13.842141Z"
    },
    "papermill": {
     "duration": 1.689433,
     "end_time": "2024-02-23T13:29:13.848741",
     "exception": false,
     "start_time": "2024-02-23T13:29:12.159308",
     "status": "completed"
    },
    "tags": []
   },
   "outputs": [
    {
     "data": {
      "image/png": "[encoded data removed]",
      "text/plain": [
       "<Figure size 640x480 with 1 Axes>"
      ]
     },
     "metadata": {},
     "output_type": "display_data"
    }
   ],
   "source": [
    "import seaborn as sns\n",
    "import matplotlib.pyplot as plt\n",
    "\n",
    "sns.countplot(x='Semester', data=df)\n",
    "plt.show()\n"
   ]
  },
  {
   "cell_type": "code",
   "execution_count": 21,
   "id": "5e6f3d08",
   "metadata": {
    "execution": {
     "iopub.execute_input": "2024-02-23T13:29:13.872861Z",
     "iopub.status.busy": "2024-02-23T13:29:13.872384Z",
     "iopub.status.idle": "2024-02-23T13:29:13.881263Z",
     "shell.execute_reply": "2024-02-23T13:29:13.879983Z"
    },
    "papermill": {
     "duration": 0.023109,
     "end_time": "2024-02-23T13:29:13.883399",
     "exception": false,
     "start_time": "2024-02-23T13:29:13.860290",
     "status": "completed"
    },
    "tags": []
   },
   "outputs": [],
   "source": [
    "df['Semester'] = df['Semester'].drop(df[df['Semester']==\"T\"].index)"
   ]
  },
  {
   "cell_type": "code",
   "execution_count": 22,
   "id": "e996869f",
   "metadata": {
    "execution": {
     "iopub.execute_input": "2024-02-23T13:29:13.910041Z",
     "iopub.status.busy": "2024-02-23T13:29:13.909337Z",
     "iopub.status.idle": "2024-02-23T13:29:13.920385Z",
     "shell.execute_reply": "2024-02-23T13:29:13.918295Z"
    },
    "papermill": {
     "duration": 0.027198,
     "end_time": "2024-02-23T13:29:13.923331",
     "exception": false,
     "start_time": "2024-02-23T13:29:13.896133",
     "status": "completed"
    },
    "tags": []
   },
   "outputs": [
    {
     "data": {
      "text/plain": [
       "Semester\n",
       "F    240\n",
       "S    228\n",
       "Name: count, dtype: int64"
      ]
     },
     "execution_count": 22,
     "metadata": {},
     "output_type": "execute_result"
    }
   ],
   "source": [
    "df.dropna(subset=['Semester'], inplace = True)\n",
    "df['Semester'].value_counts()"
   ]
  },
  {
   "cell_type": "code",
   "execution_count": 23,
   "id": "9102f4ff",
   "metadata": {
    "execution": {
     "iopub.execute_input": "2024-02-23T13:29:13.948797Z",
     "iopub.status.busy": "2024-02-23T13:29:13.948351Z",
     "iopub.status.idle": "2024-02-23T13:29:13.958474Z",
     "shell.execute_reply": "2024-02-23T13:29:13.956670Z"
    },
    "papermill": {
     "duration": 0.026252,
     "end_time": "2024-02-23T13:29:13.961492",
     "exception": false,
     "start_time": "2024-02-23T13:29:13.935240",
     "status": "completed"
    },
    "tags": []
   },
   "outputs": [
    {
     "data": {
      "text/plain": [
       "ParentAnsweringSurvey\n",
       "Yes    261\n",
       "No     207\n",
       "Name: count, dtype: int64"
      ]
     },
     "execution_count": 23,
     "metadata": {},
     "output_type": "execute_result"
    }
   ],
   "source": [
    "df['ParentAnsweringSurvey'].value_counts()"
   ]
  },
  {
   "cell_type": "code",
   "execution_count": 24,
   "id": "1337e1f4",
   "metadata": {
    "execution": {
     "iopub.execute_input": "2024-02-23T13:29:13.988799Z",
     "iopub.status.busy": "2024-02-23T13:29:13.987253Z",
     "iopub.status.idle": "2024-02-23T13:29:14.013017Z",
     "shell.execute_reply": "2024-02-23T13:29:14.012063Z"
    },
    "papermill": {
     "duration": 0.041514,
     "end_time": "2024-02-23T13:29:14.015246",
     "exception": false,
     "start_time": "2024-02-23T13:29:13.973732",
     "status": "completed"
    },
    "tags": []
   },
   "outputs": [
    {
     "data": {
      "text/html": [
       "<div>\n",
       "<style scoped>\n",
       "    .dataframe tbody tr th:only-of-type {\n",
       "        vertical-align: middle;\n",
       "    }\n",
       "\n",
       "    .dataframe tbody tr th {\n",
       "        vertical-align: top;\n",
       "    }\n",
       "\n",
       "    .dataframe thead th {\n",
       "        text-align: right;\n",
       "    }\n",
       "</style>\n",
       "<table border=\"1\" class=\"dataframe\">\n",
       "  <thead>\n",
       "    <tr style=\"text-align: right;\">\n",
       "      <th></th>\n",
       "      <th>gender</th>\n",
       "      <th>NationalITy</th>\n",
       "      <th>PlaceofBirth</th>\n",
       "      <th>StageID</th>\n",
       "      <th>GradeID</th>\n",
       "      <th>SectionID</th>\n",
       "      <th>Topic</th>\n",
       "      <th>Semester</th>\n",
       "      <th>Relation</th>\n",
       "      <th>raisedhands</th>\n",
       "      <th>VisITedResources</th>\n",
       "      <th>AnnouncementsView</th>\n",
       "      <th>Discussion</th>\n",
       "      <th>ParentschoolSatisfaction</th>\n",
       "      <th>StudentAbsenceDays</th>\n",
       "      <th>Class</th>\n",
       "    </tr>\n",
       "  </thead>\n",
       "  <tbody>\n",
       "    <tr>\n",
       "      <th>0</th>\n",
       "      <td>M</td>\n",
       "      <td>KW</td>\n",
       "      <td>KuwaIT</td>\n",
       "      <td>lowerlevel</td>\n",
       "      <td>G-04</td>\n",
       "      <td>A</td>\n",
       "      <td>IT</td>\n",
       "      <td>F</td>\n",
       "      <td>Father</td>\n",
       "      <td>15.0</td>\n",
       "      <td>16</td>\n",
       "      <td>2</td>\n",
       "      <td>20</td>\n",
       "      <td>Good</td>\n",
       "      <td>Under-7</td>\n",
       "      <td>M</td>\n",
       "    </tr>\n",
       "    <tr>\n",
       "      <th>1</th>\n",
       "      <td>M</td>\n",
       "      <td>KW</td>\n",
       "      <td>KuwaIT</td>\n",
       "      <td>lowerlevel</td>\n",
       "      <td>G-04</td>\n",
       "      <td>A</td>\n",
       "      <td>IT</td>\n",
       "      <td>F</td>\n",
       "      <td>Father</td>\n",
       "      <td>20.0</td>\n",
       "      <td>20</td>\n",
       "      <td>3</td>\n",
       "      <td>25</td>\n",
       "      <td>Good</td>\n",
       "      <td>Under-7</td>\n",
       "      <td>M</td>\n",
       "    </tr>\n",
       "    <tr>\n",
       "      <th>2</th>\n",
       "      <td>M</td>\n",
       "      <td>KW</td>\n",
       "      <td>KuwaIT</td>\n",
       "      <td>lowerlevel</td>\n",
       "      <td>G-04</td>\n",
       "      <td>A</td>\n",
       "      <td>IT</td>\n",
       "      <td>F</td>\n",
       "      <td>Father</td>\n",
       "      <td>10.0</td>\n",
       "      <td>7</td>\n",
       "      <td>0</td>\n",
       "      <td>30</td>\n",
       "      <td>Bad</td>\n",
       "      <td>Above-7</td>\n",
       "      <td>L</td>\n",
       "    </tr>\n",
       "    <tr>\n",
       "      <th>3</th>\n",
       "      <td>M</td>\n",
       "      <td>KW</td>\n",
       "      <td>KuwaIT</td>\n",
       "      <td>lowerlevel</td>\n",
       "      <td>G-04</td>\n",
       "      <td>A</td>\n",
       "      <td>IT</td>\n",
       "      <td>F</td>\n",
       "      <td>Father</td>\n",
       "      <td>30.0</td>\n",
       "      <td>25</td>\n",
       "      <td>5</td>\n",
       "      <td>35</td>\n",
       "      <td>Bad</td>\n",
       "      <td>Above-7</td>\n",
       "      <td>L</td>\n",
       "    </tr>\n",
       "    <tr>\n",
       "      <th>4</th>\n",
       "      <td>M</td>\n",
       "      <td>KW</td>\n",
       "      <td>KuwaIT</td>\n",
       "      <td>lowerlevel</td>\n",
       "      <td>G-04</td>\n",
       "      <td>A</td>\n",
       "      <td>IT</td>\n",
       "      <td>F</td>\n",
       "      <td>Father</td>\n",
       "      <td>40.0</td>\n",
       "      <td>50</td>\n",
       "      <td>12</td>\n",
       "      <td>50</td>\n",
       "      <td>Bad</td>\n",
       "      <td>Above-7</td>\n",
       "      <td>M</td>\n",
       "    </tr>\n",
       "    <tr>\n",
       "      <th>...</th>\n",
       "      <td>...</td>\n",
       "      <td>...</td>\n",
       "      <td>...</td>\n",
       "      <td>...</td>\n",
       "      <td>...</td>\n",
       "      <td>...</td>\n",
       "      <td>...</td>\n",
       "      <td>...</td>\n",
       "      <td>...</td>\n",
       "      <td>...</td>\n",
       "      <td>...</td>\n",
       "      <td>...</td>\n",
       "      <td>...</td>\n",
       "      <td>...</td>\n",
       "      <td>...</td>\n",
       "      <td>...</td>\n",
       "    </tr>\n",
       "    <tr>\n",
       "      <th>474</th>\n",
       "      <td>F</td>\n",
       "      <td>Jordan</td>\n",
       "      <td>Jordan</td>\n",
       "      <td>MiddleSchool</td>\n",
       "      <td>G-08</td>\n",
       "      <td>A</td>\n",
       "      <td>Chemistry</td>\n",
       "      <td>F</td>\n",
       "      <td>Father</td>\n",
       "      <td>2.0</td>\n",
       "      <td>7</td>\n",
       "      <td>4</td>\n",
       "      <td>8</td>\n",
       "      <td>Bad</td>\n",
       "      <td>Above-7</td>\n",
       "      <td>L</td>\n",
       "    </tr>\n",
       "    <tr>\n",
       "      <th>476</th>\n",
       "      <td>F</td>\n",
       "      <td>Jordan</td>\n",
       "      <td>Jordan</td>\n",
       "      <td>MiddleSchool</td>\n",
       "      <td>G-08</td>\n",
       "      <td>A</td>\n",
       "      <td>Geology</td>\n",
       "      <td>F</td>\n",
       "      <td>Father</td>\n",
       "      <td>50.0</td>\n",
       "      <td>77</td>\n",
       "      <td>14</td>\n",
       "      <td>28</td>\n",
       "      <td>Bad</td>\n",
       "      <td>Under-7</td>\n",
       "      <td>M</td>\n",
       "    </tr>\n",
       "    <tr>\n",
       "      <th>477</th>\n",
       "      <td>F</td>\n",
       "      <td>Jordan</td>\n",
       "      <td>Jordan</td>\n",
       "      <td>MiddleSchool</td>\n",
       "      <td>G-08</td>\n",
       "      <td>A</td>\n",
       "      <td>Geology</td>\n",
       "      <td>S</td>\n",
       "      <td>Father</td>\n",
       "      <td>55.0</td>\n",
       "      <td>74</td>\n",
       "      <td>25</td>\n",
       "      <td>29</td>\n",
       "      <td>Bad</td>\n",
       "      <td>Under-7</td>\n",
       "      <td>M</td>\n",
       "    </tr>\n",
       "    <tr>\n",
       "      <th>478</th>\n",
       "      <td>F</td>\n",
       "      <td>Jordan</td>\n",
       "      <td>Jordan</td>\n",
       "      <td>MiddleSchool</td>\n",
       "      <td>G-08</td>\n",
       "      <td>A</td>\n",
       "      <td>History</td>\n",
       "      <td>F</td>\n",
       "      <td>Father</td>\n",
       "      <td>30.0</td>\n",
       "      <td>17</td>\n",
       "      <td>14</td>\n",
       "      <td>57</td>\n",
       "      <td>Bad</td>\n",
       "      <td>Above-7</td>\n",
       "      <td>L</td>\n",
       "    </tr>\n",
       "    <tr>\n",
       "      <th>479</th>\n",
       "      <td>F</td>\n",
       "      <td>Jordan</td>\n",
       "      <td>Jordan</td>\n",
       "      <td>MiddleSchool</td>\n",
       "      <td>G-08</td>\n",
       "      <td>A</td>\n",
       "      <td>History</td>\n",
       "      <td>S</td>\n",
       "      <td>Father</td>\n",
       "      <td>35.0</td>\n",
       "      <td>14</td>\n",
       "      <td>23</td>\n",
       "      <td>62</td>\n",
       "      <td>Bad</td>\n",
       "      <td>Above-7</td>\n",
       "      <td>L</td>\n",
       "    </tr>\n",
       "  </tbody>\n",
       "</table>\n",
       "<p>468 rows × 16 columns</p>\n",
       "</div>"
      ],
      "text/plain": [
       "    gender NationalITy PlaceofBirth       StageID GradeID SectionID  \\\n",
       "0        M          KW       KuwaIT    lowerlevel    G-04         A   \n",
       "1        M          KW       KuwaIT    lowerlevel    G-04         A   \n",
       "2        M          KW       KuwaIT    lowerlevel    G-04         A   \n",
       "3        M          KW       KuwaIT    lowerlevel    G-04         A   \n",
       "4        M          KW       KuwaIT    lowerlevel    G-04         A   \n",
       "..     ...         ...          ...           ...     ...       ...   \n",
       "474      F      Jordan       Jordan  MiddleSchool    G-08         A   \n",
       "476      F      Jordan       Jordan  MiddleSchool    G-08         A   \n",
       "477      F      Jordan       Jordan  MiddleSchool    G-08         A   \n",
       "478      F      Jordan       Jordan  MiddleSchool    G-08         A   \n",
       "479      F      Jordan       Jordan  MiddleSchool    G-08         A   \n",
       "\n",
       "         Topic Semester Relation  raisedhands  VisITedResources  \\\n",
       "0           IT        F   Father         15.0                16   \n",
       "1           IT        F   Father         20.0                20   \n",
       "2           IT        F   Father         10.0                 7   \n",
       "3           IT        F   Father         30.0                25   \n",
       "4           IT        F   Father         40.0                50   \n",
       "..         ...      ...      ...          ...               ...   \n",
       "474  Chemistry        F   Father          2.0                 7   \n",
       "476    Geology        F   Father         50.0                77   \n",
       "477    Geology        S   Father         55.0                74   \n",
       "478    History        F   Father         30.0                17   \n",
       "479    History        S   Father         35.0                14   \n",
       "\n",
       "     AnnouncementsView  Discussion ParentschoolSatisfaction  \\\n",
       "0                    2          20                     Good   \n",
       "1                    3          25                     Good   \n",
       "2                    0          30                      Bad   \n",
       "3                    5          35                      Bad   \n",
       "4                   12          50                      Bad   \n",
       "..                 ...         ...                      ...   \n",
       "474                  4           8                      Bad   \n",
       "476                 14          28                      Bad   \n",
       "477                 25          29                      Bad   \n",
       "478                 14          57                      Bad   \n",
       "479                 23          62                      Bad   \n",
       "\n",
       "    StudentAbsenceDays Class  \n",
       "0              Under-7     M  \n",
       "1              Under-7     M  \n",
       "2              Above-7     L  \n",
       "3              Above-7     L  \n",
       "4              Above-7     M  \n",
       "..                 ...   ...  \n",
       "474            Above-7     L  \n",
       "476            Under-7     M  \n",
       "477            Under-7     M  \n",
       "478            Above-7     L  \n",
       "479            Above-7     L  \n",
       "\n",
       "[468 rows x 16 columns]"
      ]
     },
     "execution_count": 24,
     "metadata": {},
     "output_type": "execute_result"
    }
   ],
   "source": [
    "df.drop(columns=['ParentAnsweringSurvey'], inplace = True)\n",
    "df"
   ]
  },
  {
   "cell_type": "markdown",
   "id": "2ded9042",
   "metadata": {
    "papermill": {
     "duration": 0.01159,
     "end_time": "2024-02-23T13:29:14.038788",
     "exception": false,
     "start_time": "2024-02-23T13:29:14.027198",
     "status": "completed"
    },
    "tags": []
   },
   "source": [
    "## Normalization-\n",
    "a) Raisedhands\n",
    "\n",
    "b) VisitedResources"
   ]
  },
  {
   "cell_type": "code",
   "execution_count": 25,
   "id": "6711149d",
   "metadata": {
    "execution": {
     "iopub.execute_input": "2024-02-23T13:29:14.065079Z",
     "iopub.status.busy": "2024-02-23T13:29:14.064555Z",
     "iopub.status.idle": "2024-02-23T13:29:14.073030Z",
     "shell.execute_reply": "2024-02-23T13:29:14.071505Z"
    },
    "papermill": {
     "duration": 0.025272,
     "end_time": "2024-02-23T13:29:14.075950",
     "exception": false,
     "start_time": "2024-02-23T13:29:14.050678",
     "status": "completed"
    },
    "tags": []
   },
   "outputs": [
    {
     "data": {
      "text/plain": [
       "Index(['gender', 'NationalITy', 'PlaceofBirth', 'StageID', 'GradeID',\n",
       "       'SectionID', 'Topic', 'Semester', 'Relation', 'raisedhands',\n",
       "       'VisITedResources', 'AnnouncementsView', 'Discussion',\n",
       "       'ParentschoolSatisfaction', 'StudentAbsenceDays', 'Class'],\n",
       "      dtype='object')"
      ]
     },
     "execution_count": 25,
     "metadata": {},
     "output_type": "execute_result"
    }
   ],
   "source": [
    "df.columns"
   ]
  },
  {
   "cell_type": "code",
   "execution_count": 26,
   "id": "596ee524",
   "metadata": {
    "execution": {
     "iopub.execute_input": "2024-02-23T13:29:14.104606Z",
     "iopub.status.busy": "2024-02-23T13:29:14.104113Z",
     "iopub.status.idle": "2024-02-23T13:29:14.113316Z",
     "shell.execute_reply": "2024-02-23T13:29:14.112066Z"
    },
    "papermill": {
     "duration": 0.026962,
     "end_time": "2024-02-23T13:29:14.115599",
     "exception": false,
     "start_time": "2024-02-23T13:29:14.088637",
     "status": "completed"
    },
    "tags": []
   },
   "outputs": [],
   "source": [
    "\n",
    "# Function to normalize a column\n",
    "def normalize_column(column):\n",
    "    return column / column.max()\n",
    "\n",
    "# List of columns to normalize\n",
    "columns_to_normalize = ['raisedhands', 'VisITedResources']\n",
    "\n",
    "# Normalize the specified columns\n",
    "df[columns_to_normalize] = df[columns_to_normalize].apply(normalize_column)\n"
   ]
  },
  {
   "cell_type": "code",
   "execution_count": 27,
   "id": "231369dd",
   "metadata": {
    "execution": {
     "iopub.execute_input": "2024-02-23T13:29:14.141901Z",
     "iopub.status.busy": "2024-02-23T13:29:14.141045Z",
     "iopub.status.idle": "2024-02-23T13:29:14.159827Z",
     "shell.execute_reply": "2024-02-23T13:29:14.158440Z"
    },
    "papermill": {
     "duration": 0.0349,
     "end_time": "2024-02-23T13:29:14.162566",
     "exception": false,
     "start_time": "2024-02-23T13:29:14.127666",
     "status": "completed"
    },
    "tags": []
   },
   "outputs": [
    {
     "data": {
      "text/html": [
       "<div>\n",
       "<style scoped>\n",
       "    .dataframe tbody tr th:only-of-type {\n",
       "        vertical-align: middle;\n",
       "    }\n",
       "\n",
       "    .dataframe tbody tr th {\n",
       "        vertical-align: top;\n",
       "    }\n",
       "\n",
       "    .dataframe thead th {\n",
       "        text-align: right;\n",
       "    }\n",
       "</style>\n",
       "<table border=\"1\" class=\"dataframe\">\n",
       "  <thead>\n",
       "    <tr style=\"text-align: right;\">\n",
       "      <th></th>\n",
       "      <th>gender</th>\n",
       "      <th>NationalITy</th>\n",
       "      <th>PlaceofBirth</th>\n",
       "      <th>StageID</th>\n",
       "      <th>GradeID</th>\n",
       "      <th>SectionID</th>\n",
       "      <th>Topic</th>\n",
       "      <th>Semester</th>\n",
       "      <th>Relation</th>\n",
       "      <th>raisedhands</th>\n",
       "      <th>VisITedResources</th>\n",
       "      <th>AnnouncementsView</th>\n",
       "      <th>Discussion</th>\n",
       "      <th>ParentschoolSatisfaction</th>\n",
       "      <th>StudentAbsenceDays</th>\n",
       "      <th>Class</th>\n",
       "    </tr>\n",
       "  </thead>\n",
       "  <tbody>\n",
       "    <tr>\n",
       "      <th>0</th>\n",
       "      <td>M</td>\n",
       "      <td>KW</td>\n",
       "      <td>KuwaIT</td>\n",
       "      <td>lowerlevel</td>\n",
       "      <td>G-04</td>\n",
       "      <td>A</td>\n",
       "      <td>IT</td>\n",
       "      <td>F</td>\n",
       "      <td>Father</td>\n",
       "      <td>0.15</td>\n",
       "      <td>0.161616</td>\n",
       "      <td>2</td>\n",
       "      <td>20</td>\n",
       "      <td>Good</td>\n",
       "      <td>Under-7</td>\n",
       "      <td>M</td>\n",
       "    </tr>\n",
       "    <tr>\n",
       "      <th>1</th>\n",
       "      <td>M</td>\n",
       "      <td>KW</td>\n",
       "      <td>KuwaIT</td>\n",
       "      <td>lowerlevel</td>\n",
       "      <td>G-04</td>\n",
       "      <td>A</td>\n",
       "      <td>IT</td>\n",
       "      <td>F</td>\n",
       "      <td>Father</td>\n",
       "      <td>0.20</td>\n",
       "      <td>0.202020</td>\n",
       "      <td>3</td>\n",
       "      <td>25</td>\n",
       "      <td>Good</td>\n",
       "      <td>Under-7</td>\n",
       "      <td>M</td>\n",
       "    </tr>\n",
       "    <tr>\n",
       "      <th>2</th>\n",
       "      <td>M</td>\n",
       "      <td>KW</td>\n",
       "      <td>KuwaIT</td>\n",
       "      <td>lowerlevel</td>\n",
       "      <td>G-04</td>\n",
       "      <td>A</td>\n",
       "      <td>IT</td>\n",
       "      <td>F</td>\n",
       "      <td>Father</td>\n",
       "      <td>0.10</td>\n",
       "      <td>0.070707</td>\n",
       "      <td>0</td>\n",
       "      <td>30</td>\n",
       "      <td>Bad</td>\n",
       "      <td>Above-7</td>\n",
       "      <td>L</td>\n",
       "    </tr>\n",
       "    <tr>\n",
       "      <th>3</th>\n",
       "      <td>M</td>\n",
       "      <td>KW</td>\n",
       "      <td>KuwaIT</td>\n",
       "      <td>lowerlevel</td>\n",
       "      <td>G-04</td>\n",
       "      <td>A</td>\n",
       "      <td>IT</td>\n",
       "      <td>F</td>\n",
       "      <td>Father</td>\n",
       "      <td>0.30</td>\n",
       "      <td>0.252525</td>\n",
       "      <td>5</td>\n",
       "      <td>35</td>\n",
       "      <td>Bad</td>\n",
       "      <td>Above-7</td>\n",
       "      <td>L</td>\n",
       "    </tr>\n",
       "    <tr>\n",
       "      <th>4</th>\n",
       "      <td>M</td>\n",
       "      <td>KW</td>\n",
       "      <td>KuwaIT</td>\n",
       "      <td>lowerlevel</td>\n",
       "      <td>G-04</td>\n",
       "      <td>A</td>\n",
       "      <td>IT</td>\n",
       "      <td>F</td>\n",
       "      <td>Father</td>\n",
       "      <td>0.40</td>\n",
       "      <td>0.505051</td>\n",
       "      <td>12</td>\n",
       "      <td>50</td>\n",
       "      <td>Bad</td>\n",
       "      <td>Above-7</td>\n",
       "      <td>M</td>\n",
       "    </tr>\n",
       "  </tbody>\n",
       "</table>\n",
       "</div>"
      ],
      "text/plain": [
       "  gender NationalITy PlaceofBirth     StageID GradeID SectionID Topic  \\\n",
       "0      M          KW       KuwaIT  lowerlevel    G-04         A    IT   \n",
       "1      M          KW       KuwaIT  lowerlevel    G-04         A    IT   \n",
       "2      M          KW       KuwaIT  lowerlevel    G-04         A    IT   \n",
       "3      M          KW       KuwaIT  lowerlevel    G-04         A    IT   \n",
       "4      M          KW       KuwaIT  lowerlevel    G-04         A    IT   \n",
       "\n",
       "  Semester Relation  raisedhands  VisITedResources  AnnouncementsView  \\\n",
       "0        F   Father         0.15          0.161616                  2   \n",
       "1        F   Father         0.20          0.202020                  3   \n",
       "2        F   Father         0.10          0.070707                  0   \n",
       "3        F   Father         0.30          0.252525                  5   \n",
       "4        F   Father         0.40          0.505051                 12   \n",
       "\n",
       "   Discussion ParentschoolSatisfaction StudentAbsenceDays Class  \n",
       "0          20                     Good            Under-7     M  \n",
       "1          25                     Good            Under-7     M  \n",
       "2          30                      Bad            Above-7     L  \n",
       "3          35                      Bad            Above-7     L  \n",
       "4          50                      Bad            Above-7     M  "
      ]
     },
     "execution_count": 27,
     "metadata": {},
     "output_type": "execute_result"
    }
   ],
   "source": [
    "df.head()"
   ]
  },
  {
   "cell_type": "markdown",
   "id": "342bca21",
   "metadata": {
    "papermill": {
     "duration": 0.014389,
     "end_time": "2024-02-23T13:29:14.189670",
     "exception": false,
     "start_time": "2024-02-23T13:29:14.175281",
     "status": "completed"
    },
    "tags": []
   },
   "source": [
    "## Transformation\n",
    "\n",
    "a) GradeID- Convert grades to 1-10\n",
    "\n",
    "b) StudentAbsentDays"
   ]
  },
  {
   "cell_type": "code",
   "execution_count": 28,
   "id": "72bedc8a",
   "metadata": {
    "execution": {
     "iopub.execute_input": "2024-02-23T13:29:14.220741Z",
     "iopub.status.busy": "2024-02-23T13:29:14.220017Z",
     "iopub.status.idle": "2024-02-23T13:29:14.229307Z",
     "shell.execute_reply": "2024-02-23T13:29:14.228431Z"
    },
    "papermill": {
     "duration": 0.030217,
     "end_time": "2024-02-23T13:29:14.232451",
     "exception": false,
     "start_time": "2024-02-23T13:29:14.202234",
     "status": "completed"
    },
    "tags": []
   },
   "outputs": [
    {
     "data": {
      "text/plain": [
       "GradeID\n",
       "G-02    142\n",
       "G-08    115\n",
       "G-07     98\n",
       "G-04     48\n",
       "G-06     31\n",
       "G-11     13\n",
       "G-12      9\n",
       "G-09      5\n",
       "G-10      4\n",
       "G-05      3\n",
       "Name: count, dtype: int64"
      ]
     },
     "execution_count": 28,
     "metadata": {},
     "output_type": "execute_result"
    }
   ],
   "source": [
    "df['GradeID'].value_counts()"
   ]
  },
  {
   "cell_type": "code",
   "execution_count": 29,
   "id": "44821046",
   "metadata": {
    "execution": {
     "iopub.execute_input": "2024-02-23T13:29:14.261901Z",
     "iopub.status.busy": "2024-02-23T13:29:14.261497Z",
     "iopub.status.idle": "2024-02-23T13:29:14.271624Z",
     "shell.execute_reply": "2024-02-23T13:29:14.270208Z"
    },
    "papermill": {
     "duration": 0.026769,
     "end_time": "2024-02-23T13:29:14.274139",
     "exception": false,
     "start_time": "2024-02-23T13:29:14.247370",
     "status": "completed"
    },
    "tags": []
   },
   "outputs": [
    {
     "name": "stderr",
     "output_type": "stream",
     "text": [
      "/tmp/ipykernel_18/944614738.py:6: FutureWarning: Downcasting behavior in `replace` is deprecated and will be removed in a future version. To retain the old behavior, explicitly call `result.infer_objects(copy=False)`. To opt-in to the future behavior, set `pd.set_option('future.no_silent_downcasting', True)`\n",
      "  df['GradeID'] = df['GradeID'].replace(grade_conversion)\n"
     ]
    }
   ],
   "source": [
    "# Dictionary for grades conversion\n",
    "grade_conversion = {'G-02': 1, 'G-04': 2, 'G-05': 3, 'G-06': 4, 'G-07': 5,\n",
    "                    'G-08': 6, 'G-09': 7, 'G-10': 8, 'G-11': 9, 'G-12': 10}\n",
    "\n",
    "# Replace values in 'GradeID' column with their numerical equivalents\n",
    "df['GradeID'] = df['GradeID'].replace(grade_conversion)"
   ]
  },
  {
   "cell_type": "code",
   "execution_count": 30,
   "id": "43b63250",
   "metadata": {
    "execution": {
     "iopub.execute_input": "2024-02-23T13:29:14.302930Z",
     "iopub.status.busy": "2024-02-23T13:29:14.302192Z",
     "iopub.status.idle": "2024-02-23T13:29:14.327649Z",
     "shell.execute_reply": "2024-02-23T13:29:14.326380Z"
    },
    "papermill": {
     "duration": 0.044374,
     "end_time": "2024-02-23T13:29:14.330816",
     "exception": false,
     "start_time": "2024-02-23T13:29:14.286442",
     "status": "completed"
    },
    "tags": []
   },
   "outputs": [
    {
     "data": {
      "text/html": [
       "<div>\n",
       "<style scoped>\n",
       "    .dataframe tbody tr th:only-of-type {\n",
       "        vertical-align: middle;\n",
       "    }\n",
       "\n",
       "    .dataframe tbody tr th {\n",
       "        vertical-align: top;\n",
       "    }\n",
       "\n",
       "    .dataframe thead th {\n",
       "        text-align: right;\n",
       "    }\n",
       "</style>\n",
       "<table border=\"1\" class=\"dataframe\">\n",
       "  <thead>\n",
       "    <tr style=\"text-align: right;\">\n",
       "      <th></th>\n",
       "      <th>gender</th>\n",
       "      <th>NationalITy</th>\n",
       "      <th>PlaceofBirth</th>\n",
       "      <th>StageID</th>\n",
       "      <th>GradeID</th>\n",
       "      <th>SectionID</th>\n",
       "      <th>Topic</th>\n",
       "      <th>Semester</th>\n",
       "      <th>Relation</th>\n",
       "      <th>raisedhands</th>\n",
       "      <th>VisITedResources</th>\n",
       "      <th>AnnouncementsView</th>\n",
       "      <th>Discussion</th>\n",
       "      <th>ParentschoolSatisfaction</th>\n",
       "      <th>StudentAbsenceDays</th>\n",
       "      <th>Class</th>\n",
       "    </tr>\n",
       "  </thead>\n",
       "  <tbody>\n",
       "    <tr>\n",
       "      <th>0</th>\n",
       "      <td>M</td>\n",
       "      <td>KW</td>\n",
       "      <td>KuwaIT</td>\n",
       "      <td>lowerlevel</td>\n",
       "      <td>2</td>\n",
       "      <td>A</td>\n",
       "      <td>IT</td>\n",
       "      <td>F</td>\n",
       "      <td>Father</td>\n",
       "      <td>0.15</td>\n",
       "      <td>0.161616</td>\n",
       "      <td>2</td>\n",
       "      <td>20</td>\n",
       "      <td>Good</td>\n",
       "      <td>Under-7</td>\n",
       "      <td>M</td>\n",
       "    </tr>\n",
       "    <tr>\n",
       "      <th>1</th>\n",
       "      <td>M</td>\n",
       "      <td>KW</td>\n",
       "      <td>KuwaIT</td>\n",
       "      <td>lowerlevel</td>\n",
       "      <td>2</td>\n",
       "      <td>A</td>\n",
       "      <td>IT</td>\n",
       "      <td>F</td>\n",
       "      <td>Father</td>\n",
       "      <td>0.20</td>\n",
       "      <td>0.202020</td>\n",
       "      <td>3</td>\n",
       "      <td>25</td>\n",
       "      <td>Good</td>\n",
       "      <td>Under-7</td>\n",
       "      <td>M</td>\n",
       "    </tr>\n",
       "    <tr>\n",
       "      <th>2</th>\n",
       "      <td>M</td>\n",
       "      <td>KW</td>\n",
       "      <td>KuwaIT</td>\n",
       "      <td>lowerlevel</td>\n",
       "      <td>2</td>\n",
       "      <td>A</td>\n",
       "      <td>IT</td>\n",
       "      <td>F</td>\n",
       "      <td>Father</td>\n",
       "      <td>0.10</td>\n",
       "      <td>0.070707</td>\n",
       "      <td>0</td>\n",
       "      <td>30</td>\n",
       "      <td>Bad</td>\n",
       "      <td>Above-7</td>\n",
       "      <td>L</td>\n",
       "    </tr>\n",
       "    <tr>\n",
       "      <th>3</th>\n",
       "      <td>M</td>\n",
       "      <td>KW</td>\n",
       "      <td>KuwaIT</td>\n",
       "      <td>lowerlevel</td>\n",
       "      <td>2</td>\n",
       "      <td>A</td>\n",
       "      <td>IT</td>\n",
       "      <td>F</td>\n",
       "      <td>Father</td>\n",
       "      <td>0.30</td>\n",
       "      <td>0.252525</td>\n",
       "      <td>5</td>\n",
       "      <td>35</td>\n",
       "      <td>Bad</td>\n",
       "      <td>Above-7</td>\n",
       "      <td>L</td>\n",
       "    </tr>\n",
       "    <tr>\n",
       "      <th>4</th>\n",
       "      <td>M</td>\n",
       "      <td>KW</td>\n",
       "      <td>KuwaIT</td>\n",
       "      <td>lowerlevel</td>\n",
       "      <td>2</td>\n",
       "      <td>A</td>\n",
       "      <td>IT</td>\n",
       "      <td>F</td>\n",
       "      <td>Father</td>\n",
       "      <td>0.40</td>\n",
       "      <td>0.505051</td>\n",
       "      <td>12</td>\n",
       "      <td>50</td>\n",
       "      <td>Bad</td>\n",
       "      <td>Above-7</td>\n",
       "      <td>M</td>\n",
       "    </tr>\n",
       "  </tbody>\n",
       "</table>\n",
       "</div>"
      ],
      "text/plain": [
       "  gender NationalITy PlaceofBirth     StageID  GradeID SectionID Topic  \\\n",
       "0      M          KW       KuwaIT  lowerlevel        2         A    IT   \n",
       "1      M          KW       KuwaIT  lowerlevel        2         A    IT   \n",
       "2      M          KW       KuwaIT  lowerlevel        2         A    IT   \n",
       "3      M          KW       KuwaIT  lowerlevel        2         A    IT   \n",
       "4      M          KW       KuwaIT  lowerlevel        2         A    IT   \n",
       "\n",
       "  Semester Relation  raisedhands  VisITedResources  AnnouncementsView  \\\n",
       "0        F   Father         0.15          0.161616                  2   \n",
       "1        F   Father         0.20          0.202020                  3   \n",
       "2        F   Father         0.10          0.070707                  0   \n",
       "3        F   Father         0.30          0.252525                  5   \n",
       "4        F   Father         0.40          0.505051                 12   \n",
       "\n",
       "   Discussion ParentschoolSatisfaction StudentAbsenceDays Class  \n",
       "0          20                     Good            Under-7     M  \n",
       "1          25                     Good            Under-7     M  \n",
       "2          30                      Bad            Above-7     L  \n",
       "3          35                      Bad            Above-7     L  \n",
       "4          50                      Bad            Above-7     M  "
      ]
     },
     "execution_count": 30,
     "metadata": {},
     "output_type": "execute_result"
    }
   ],
   "source": [
    "df.head()"
   ]
  },
  {
   "cell_type": "code",
   "execution_count": 31,
   "id": "bb14b796",
   "metadata": {
    "execution": {
     "iopub.execute_input": "2024-02-23T13:29:14.364452Z",
     "iopub.status.busy": "2024-02-23T13:29:14.363472Z",
     "iopub.status.idle": "2024-02-23T13:29:14.373473Z",
     "shell.execute_reply": "2024-02-23T13:29:14.372592Z"
    },
    "papermill": {
     "duration": 0.028882,
     "end_time": "2024-02-23T13:29:14.375822",
     "exception": false,
     "start_time": "2024-02-23T13:29:14.346940",
     "status": "completed"
    },
    "tags": []
   },
   "outputs": [
    {
     "data": {
      "text/plain": [
       "StudentAbsenceDays\n",
       "Under-7    282\n",
       "Above-7    186\n",
       "Name: count, dtype: int64"
      ]
     },
     "execution_count": 31,
     "metadata": {},
     "output_type": "execute_result"
    }
   ],
   "source": [
    "df['StudentAbsenceDays'].value_counts()"
   ]
  },
  {
   "cell_type": "markdown",
   "id": "2f47338d",
   "metadata": {
    "papermill": {
     "duration": 0.014325,
     "end_time": "2024-02-23T13:29:14.405876",
     "exception": false,
     "start_time": "2024-02-23T13:29:14.391551",
     "status": "completed"
    },
    "tags": []
   },
   "source": [
    "We will be using Binary encoding for this. \n",
    "\n",
    "Binary Encoding:\n",
    "\n",
    "We can convert the column into a binary format where \"under-7\" is represented as 0 and \"above-7\" is represented as 1. This binary encoding is often useful when dealing with binary classification problems."
   ]
  },
  {
   "cell_type": "code",
   "execution_count": 32,
   "id": "5fb2ee0c",
   "metadata": {
    "execution": {
     "iopub.execute_input": "2024-02-23T13:29:14.435078Z",
     "iopub.status.busy": "2024-02-23T13:29:14.434230Z",
     "iopub.status.idle": "2024-02-23T13:29:14.561735Z",
     "shell.execute_reply": "2024-02-23T13:29:14.560516Z"
    },
    "papermill": {
     "duration": 0.144938,
     "end_time": "2024-02-23T13:29:14.564090",
     "exception": false,
     "start_time": "2024-02-23T13:29:14.419152",
     "status": "completed"
    },
    "tags": []
   },
   "outputs": [],
   "source": [
    "# Binary encoding\n",
    "df['StudentAbsenceDays'] = df['StudentAbsenceDays'].apply(lambda x: 0 if x == 'under-7' else 1)"
   ]
  },
  {
   "cell_type": "code",
   "execution_count": 33,
   "id": "4e89c1ef",
   "metadata": {
    "execution": {
     "iopub.execute_input": "2024-02-23T13:29:14.597750Z",
     "iopub.status.busy": "2024-02-23T13:29:14.596260Z",
     "iopub.status.idle": "2024-02-23T13:29:14.616214Z",
     "shell.execute_reply": "2024-02-23T13:29:14.614761Z"
    },
    "papermill": {
     "duration": 0.039328,
     "end_time": "2024-02-23T13:29:14.618686",
     "exception": false,
     "start_time": "2024-02-23T13:29:14.579358",
     "status": "completed"
    },
    "tags": []
   },
   "outputs": [
    {
     "data": {
      "text/html": [
       "<div>\n",
       "<style scoped>\n",
       "    .dataframe tbody tr th:only-of-type {\n",
       "        vertical-align: middle;\n",
       "    }\n",
       "\n",
       "    .dataframe tbody tr th {\n",
       "        vertical-align: top;\n",
       "    }\n",
       "\n",
       "    .dataframe thead th {\n",
       "        text-align: right;\n",
       "    }\n",
       "</style>\n",
       "<table border=\"1\" class=\"dataframe\">\n",
       "  <thead>\n",
       "    <tr style=\"text-align: right;\">\n",
       "      <th></th>\n",
       "      <th>gender</th>\n",
       "      <th>NationalITy</th>\n",
       "      <th>PlaceofBirth</th>\n",
       "      <th>StageID</th>\n",
       "      <th>GradeID</th>\n",
       "      <th>SectionID</th>\n",
       "      <th>Topic</th>\n",
       "      <th>Semester</th>\n",
       "      <th>Relation</th>\n",
       "      <th>raisedhands</th>\n",
       "      <th>VisITedResources</th>\n",
       "      <th>AnnouncementsView</th>\n",
       "      <th>Discussion</th>\n",
       "      <th>ParentschoolSatisfaction</th>\n",
       "      <th>StudentAbsenceDays</th>\n",
       "      <th>Class</th>\n",
       "    </tr>\n",
       "  </thead>\n",
       "  <tbody>\n",
       "    <tr>\n",
       "      <th>0</th>\n",
       "      <td>M</td>\n",
       "      <td>KW</td>\n",
       "      <td>KuwaIT</td>\n",
       "      <td>lowerlevel</td>\n",
       "      <td>2</td>\n",
       "      <td>A</td>\n",
       "      <td>IT</td>\n",
       "      <td>F</td>\n",
       "      <td>Father</td>\n",
       "      <td>0.15</td>\n",
       "      <td>0.161616</td>\n",
       "      <td>2</td>\n",
       "      <td>20</td>\n",
       "      <td>Good</td>\n",
       "      <td>1</td>\n",
       "      <td>M</td>\n",
       "    </tr>\n",
       "    <tr>\n",
       "      <th>1</th>\n",
       "      <td>M</td>\n",
       "      <td>KW</td>\n",
       "      <td>KuwaIT</td>\n",
       "      <td>lowerlevel</td>\n",
       "      <td>2</td>\n",
       "      <td>A</td>\n",
       "      <td>IT</td>\n",
       "      <td>F</td>\n",
       "      <td>Father</td>\n",
       "      <td>0.20</td>\n",
       "      <td>0.202020</td>\n",
       "      <td>3</td>\n",
       "      <td>25</td>\n",
       "      <td>Good</td>\n",
       "      <td>1</td>\n",
       "      <td>M</td>\n",
       "    </tr>\n",
       "    <tr>\n",
       "      <th>2</th>\n",
       "      <td>M</td>\n",
       "      <td>KW</td>\n",
       "      <td>KuwaIT</td>\n",
       "      <td>lowerlevel</td>\n",
       "      <td>2</td>\n",
       "      <td>A</td>\n",
       "      <td>IT</td>\n",
       "      <td>F</td>\n",
       "      <td>Father</td>\n",
       "      <td>0.10</td>\n",
       "      <td>0.070707</td>\n",
       "      <td>0</td>\n",
       "      <td>30</td>\n",
       "      <td>Bad</td>\n",
       "      <td>1</td>\n",
       "      <td>L</td>\n",
       "    </tr>\n",
       "    <tr>\n",
       "      <th>3</th>\n",
       "      <td>M</td>\n",
       "      <td>KW</td>\n",
       "      <td>KuwaIT</td>\n",
       "      <td>lowerlevel</td>\n",
       "      <td>2</td>\n",
       "      <td>A</td>\n",
       "      <td>IT</td>\n",
       "      <td>F</td>\n",
       "      <td>Father</td>\n",
       "      <td>0.30</td>\n",
       "      <td>0.252525</td>\n",
       "      <td>5</td>\n",
       "      <td>35</td>\n",
       "      <td>Bad</td>\n",
       "      <td>1</td>\n",
       "      <td>L</td>\n",
       "    </tr>\n",
       "    <tr>\n",
       "      <th>4</th>\n",
       "      <td>M</td>\n",
       "      <td>KW</td>\n",
       "      <td>KuwaIT</td>\n",
       "      <td>lowerlevel</td>\n",
       "      <td>2</td>\n",
       "      <td>A</td>\n",
       "      <td>IT</td>\n",
       "      <td>F</td>\n",
       "      <td>Father</td>\n",
       "      <td>0.40</td>\n",
       "      <td>0.505051</td>\n",
       "      <td>12</td>\n",
       "      <td>50</td>\n",
       "      <td>Bad</td>\n",
       "      <td>1</td>\n",
       "      <td>M</td>\n",
       "    </tr>\n",
       "  </tbody>\n",
       "</table>\n",
       "</div>"
      ],
      "text/plain": [
       "  gender NationalITy PlaceofBirth     StageID  GradeID SectionID Topic  \\\n",
       "0      M          KW       KuwaIT  lowerlevel        2         A    IT   \n",
       "1      M          KW       KuwaIT  lowerlevel        2         A    IT   \n",
       "2      M          KW       KuwaIT  lowerlevel        2         A    IT   \n",
       "3      M          KW       KuwaIT  lowerlevel        2         A    IT   \n",
       "4      M          KW       KuwaIT  lowerlevel        2         A    IT   \n",
       "\n",
       "  Semester Relation  raisedhands  VisITedResources  AnnouncementsView  \\\n",
       "0        F   Father         0.15          0.161616                  2   \n",
       "1        F   Father         0.20          0.202020                  3   \n",
       "2        F   Father         0.10          0.070707                  0   \n",
       "3        F   Father         0.30          0.252525                  5   \n",
       "4        F   Father         0.40          0.505051                 12   \n",
       "\n",
       "   Discussion ParentschoolSatisfaction  StudentAbsenceDays Class  \n",
       "0          20                     Good                   1     M  \n",
       "1          25                     Good                   1     M  \n",
       "2          30                      Bad                   1     L  \n",
       "3          35                      Bad                   1     L  \n",
       "4          50                      Bad                   1     M  "
      ]
     },
     "execution_count": 33,
     "metadata": {},
     "output_type": "execute_result"
    }
   ],
   "source": [
    "df.head()"
   ]
  },
  {
   "cell_type": "markdown",
   "id": "98136d04",
   "metadata": {
    "papermill": {
     "duration": 0.012186,
     "end_time": "2024-02-23T13:29:14.645444",
     "exception": false,
     "start_time": "2024-02-23T13:29:14.633258",
     "status": "completed"
    },
    "tags": []
   },
   "source": [
    "## Binning to add new column\n",
    "\n",
    "\"Binning to add a new column\" typically refers to the process of grouping or categorizing numerical data into discrete intervals or bins and then creating a new column to represent these bins. This is often done to simplify the analysis, handle outliers, or convert numerical data into a categorical form."
   ]
  },
  {
   "cell_type": "markdown",
   "id": "245f7e1b",
   "metadata": {
    "papermill": {
     "duration": 0.012028,
     "end_time": "2024-02-23T13:29:14.669998",
     "exception": false,
     "start_time": "2024-02-23T13:29:14.657970",
     "status": "completed"
    },
    "tags": []
   },
   "source": [
    "I am choosing \"AnnouncementsView\" to be converted into bins."
   ]
  },
  {
   "cell_type": "code",
   "execution_count": 34,
   "id": "48108fed",
   "metadata": {
    "execution": {
     "iopub.execute_input": "2024-02-23T13:29:14.696351Z",
     "iopub.status.busy": "2024-02-23T13:29:14.695937Z",
     "iopub.status.idle": "2024-02-23T13:29:14.709417Z",
     "shell.execute_reply": "2024-02-23T13:29:14.708655Z"
    },
    "papermill": {
     "duration": 0.029232,
     "end_time": "2024-02-23T13:29:14.711441",
     "exception": false,
     "start_time": "2024-02-23T13:29:14.682209",
     "status": "completed"
    },
    "tags": []
   },
   "outputs": [],
   "source": [
    "# Define bins\n",
    "bins = [0, 30, 60, 100]\n",
    "\n",
    "# Define labels for the bins\n",
    "labels = ['Low', 'Medium', 'High']\n",
    "\n",
    "# Perform binning and add a new column 'AnnouncementBinned'\n",
    "df['AnnouncementBinned'] = pd.cut(df['AnnouncementsView'], bins=bins, labels=labels, include_lowest=True)\n"
   ]
  },
  {
   "cell_type": "code",
   "execution_count": 35,
   "id": "ac76f776",
   "metadata": {
    "execution": {
     "iopub.execute_input": "2024-02-23T13:29:14.739454Z",
     "iopub.status.busy": "2024-02-23T13:29:14.738878Z",
     "iopub.status.idle": "2024-02-23T13:29:14.755761Z",
     "shell.execute_reply": "2024-02-23T13:29:14.754617Z"
    },
    "papermill": {
     "duration": 0.033129,
     "end_time": "2024-02-23T13:29:14.757521",
     "exception": false,
     "start_time": "2024-02-23T13:29:14.724392",
     "status": "completed"
    },
    "tags": []
   },
   "outputs": [
    {
     "data": {
      "text/html": [
       "<div>\n",
       "<style scoped>\n",
       "    .dataframe tbody tr th:only-of-type {\n",
       "        vertical-align: middle;\n",
       "    }\n",
       "\n",
       "    .dataframe tbody tr th {\n",
       "        vertical-align: top;\n",
       "    }\n",
       "\n",
       "    .dataframe thead th {\n",
       "        text-align: right;\n",
       "    }\n",
       "</style>\n",
       "<table border=\"1\" class=\"dataframe\">\n",
       "  <thead>\n",
       "    <tr style=\"text-align: right;\">\n",
       "      <th></th>\n",
       "      <th>gender</th>\n",
       "      <th>NationalITy</th>\n",
       "      <th>PlaceofBirth</th>\n",
       "      <th>StageID</th>\n",
       "      <th>GradeID</th>\n",
       "      <th>SectionID</th>\n",
       "      <th>Topic</th>\n",
       "      <th>Semester</th>\n",
       "      <th>Relation</th>\n",
       "      <th>raisedhands</th>\n",
       "      <th>VisITedResources</th>\n",
       "      <th>AnnouncementsView</th>\n",
       "      <th>Discussion</th>\n",
       "      <th>ParentschoolSatisfaction</th>\n",
       "      <th>StudentAbsenceDays</th>\n",
       "      <th>Class</th>\n",
       "      <th>AnnouncementBinned</th>\n",
       "    </tr>\n",
       "  </thead>\n",
       "  <tbody>\n",
       "    <tr>\n",
       "      <th>0</th>\n",
       "      <td>M</td>\n",
       "      <td>KW</td>\n",
       "      <td>KuwaIT</td>\n",
       "      <td>lowerlevel</td>\n",
       "      <td>2</td>\n",
       "      <td>A</td>\n",
       "      <td>IT</td>\n",
       "      <td>F</td>\n",
       "      <td>Father</td>\n",
       "      <td>0.15</td>\n",
       "      <td>0.161616</td>\n",
       "      <td>2</td>\n",
       "      <td>20</td>\n",
       "      <td>Good</td>\n",
       "      <td>1</td>\n",
       "      <td>M</td>\n",
       "      <td>Low</td>\n",
       "    </tr>\n",
       "    <tr>\n",
       "      <th>1</th>\n",
       "      <td>M</td>\n",
       "      <td>KW</td>\n",
       "      <td>KuwaIT</td>\n",
       "      <td>lowerlevel</td>\n",
       "      <td>2</td>\n",
       "      <td>A</td>\n",
       "      <td>IT</td>\n",
       "      <td>F</td>\n",
       "      <td>Father</td>\n",
       "      <td>0.20</td>\n",
       "      <td>0.202020</td>\n",
       "      <td>3</td>\n",
       "      <td>25</td>\n",
       "      <td>Good</td>\n",
       "      <td>1</td>\n",
       "      <td>M</td>\n",
       "      <td>Low</td>\n",
       "    </tr>\n",
       "    <tr>\n",
       "      <th>2</th>\n",
       "      <td>M</td>\n",
       "      <td>KW</td>\n",
       "      <td>KuwaIT</td>\n",
       "      <td>lowerlevel</td>\n",
       "      <td>2</td>\n",
       "      <td>A</td>\n",
       "      <td>IT</td>\n",
       "      <td>F</td>\n",
       "      <td>Father</td>\n",
       "      <td>0.10</td>\n",
       "      <td>0.070707</td>\n",
       "      <td>0</td>\n",
       "      <td>30</td>\n",
       "      <td>Bad</td>\n",
       "      <td>1</td>\n",
       "      <td>L</td>\n",
       "      <td>Low</td>\n",
       "    </tr>\n",
       "    <tr>\n",
       "      <th>3</th>\n",
       "      <td>M</td>\n",
       "      <td>KW</td>\n",
       "      <td>KuwaIT</td>\n",
       "      <td>lowerlevel</td>\n",
       "      <td>2</td>\n",
       "      <td>A</td>\n",
       "      <td>IT</td>\n",
       "      <td>F</td>\n",
       "      <td>Father</td>\n",
       "      <td>0.30</td>\n",
       "      <td>0.252525</td>\n",
       "      <td>5</td>\n",
       "      <td>35</td>\n",
       "      <td>Bad</td>\n",
       "      <td>1</td>\n",
       "      <td>L</td>\n",
       "      <td>Low</td>\n",
       "    </tr>\n",
       "    <tr>\n",
       "      <th>4</th>\n",
       "      <td>M</td>\n",
       "      <td>KW</td>\n",
       "      <td>KuwaIT</td>\n",
       "      <td>lowerlevel</td>\n",
       "      <td>2</td>\n",
       "      <td>A</td>\n",
       "      <td>IT</td>\n",
       "      <td>F</td>\n",
       "      <td>Father</td>\n",
       "      <td>0.40</td>\n",
       "      <td>0.505051</td>\n",
       "      <td>12</td>\n",
       "      <td>50</td>\n",
       "      <td>Bad</td>\n",
       "      <td>1</td>\n",
       "      <td>M</td>\n",
       "      <td>Low</td>\n",
       "    </tr>\n",
       "  </tbody>\n",
       "</table>\n",
       "</div>"
      ],
      "text/plain": [
       "  gender NationalITy PlaceofBirth     StageID  GradeID SectionID Topic  \\\n",
       "0      M          KW       KuwaIT  lowerlevel        2         A    IT   \n",
       "1      M          KW       KuwaIT  lowerlevel        2         A    IT   \n",
       "2      M          KW       KuwaIT  lowerlevel        2         A    IT   \n",
       "3      M          KW       KuwaIT  lowerlevel        2         A    IT   \n",
       "4      M          KW       KuwaIT  lowerlevel        2         A    IT   \n",
       "\n",
       "  Semester Relation  raisedhands  VisITedResources  AnnouncementsView  \\\n",
       "0        F   Father         0.15          0.161616                  2   \n",
       "1        F   Father         0.20          0.202020                  3   \n",
       "2        F   Father         0.10          0.070707                  0   \n",
       "3        F   Father         0.30          0.252525                  5   \n",
       "4        F   Father         0.40          0.505051                 12   \n",
       "\n",
       "   Discussion ParentschoolSatisfaction  StudentAbsenceDays Class  \\\n",
       "0          20                     Good                   1     M   \n",
       "1          25                     Good                   1     M   \n",
       "2          30                      Bad                   1     L   \n",
       "3          35                      Bad                   1     L   \n",
       "4          50                      Bad                   1     M   \n",
       "\n",
       "  AnnouncementBinned  \n",
       "0                Low  \n",
       "1                Low  \n",
       "2                Low  \n",
       "3                Low  \n",
       "4                Low  "
      ]
     },
     "execution_count": 35,
     "metadata": {},
     "output_type": "execute_result"
    }
   ],
   "source": [
    "df.head()"
   ]
  },
  {
   "cell_type": "markdown",
   "id": "9c5daf5c",
   "metadata": {
    "papermill": {
     "duration": 0.012335,
     "end_time": "2024-02-23T13:29:14.783681",
     "exception": false,
     "start_time": "2024-02-23T13:29:14.771346",
     "status": "completed"
    },
    "tags": []
   },
   "source": [
    "## Saving the DataFrame as csv file"
   ]
  },
  {
   "cell_type": "code",
   "execution_count": 36,
   "id": "6566dcbf",
   "metadata": {
    "execution": {
     "iopub.execute_input": "2024-02-23T13:29:14.812048Z",
     "iopub.status.busy": "2024-02-23T13:29:14.810789Z",
     "iopub.status.idle": "2024-02-23T13:29:14.824473Z",
     "shell.execute_reply": "2024-02-23T13:29:14.823085Z"
    },
    "papermill": {
     "duration": 0.030666,
     "end_time": "2024-02-23T13:29:14.826997",
     "exception": false,
     "start_time": "2024-02-23T13:29:14.796331",
     "status": "completed"
    },
    "tags": []
   },
   "outputs": [],
   "source": [
    "df.to_csv(\"2039-Assignment2.csv\")"
   ]
  }
 ],
 "metadata": {
  "kaggle": {
   "accelerator": "none",
   "dataSources": [
    {
     "datasetId": 436,
     "sourceId": 920,
     "sourceType": "datasetVersion"
    },
    {
     "datasetId": 4455236,
     "sourceId": 7643670,
     "sourceType": "datasetVersion"
    }
   ],
   "dockerImageVersionId": 30646,
   "isGpuEnabled": false,
   "isInternetEnabled": true,
   "language": "python",
   "sourceType": "notebook"
  },
  "kernelspec": {
   "display_name": "Python 3",
   "language": "python",
   "name": "python3"
  },
  "language_info": {
   "codemirror_mode": {
    "name": "ipython",
    "version": 3
   },
   "file_extension": ".py",
   "mimetype": "text/x-python",
   "name": "python",
   "nbconvert_exporter": "python",
   "pygments_lexer": "ipython3",
   "version": "3.10.13"
  },
  "papermill": {
   "default_parameters": {},
   "duration": 8.430422,
   "end_time": "2024-02-23T13:29:15.564611",
   "environment_variables": {},
   "exception": null,
   "input_path": "__notebook__.ipynb",
   "output_path": "__notebook__.ipynb",
   "parameters": {},
   "start_time": "2024-02-23T13:29:07.134189",
   "version": "2.5.0"
  }
 },
 "nbformat": 4,
 "nbformat_minor": 5
}
